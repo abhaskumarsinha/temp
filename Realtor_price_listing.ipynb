{
 "cells": [
  {
   "cell_type": "code",
   "execution_count": 2,
   "id": "a95ede8a",
   "metadata": {},
   "outputs": [],
   "source": [
    "import numpy as np\n",
    "import pandas as pd\n",
    "from selenium.webdriver.common.keys import Keys\n",
    "from time import sleep\n",
    "\n",
    "from selenium import webdriver\n",
    "import chromedriver_autoinstaller\n",
    "\n",
    "\n",
    "chromedriver_autoinstaller.install()\n",
    "driver = webdriver.Chrome()\n",
    "\n",
    "driver.get(\"https://www.realtor.com/myhome\")"
   ]
  },
  {
   "cell_type": "code",
   "execution_count": 6,
   "id": "f532987f",
   "metadata": {},
   "outputs": [],
   "source": [
    "csv = pd.read_csv(\"sample.csv\")"
   ]
  },
  {
   "cell_type": "code",
   "execution_count": 7,
   "id": "3513b45f",
   "metadata": {
    "scrolled": true
   },
   "outputs": [
    {
     "data": {
      "text/html": [
       "<div>\n",
       "<style scoped>\n",
       "    .dataframe tbody tr th:only-of-type {\n",
       "        vertical-align: middle;\n",
       "    }\n",
       "\n",
       "    .dataframe tbody tr th {\n",
       "        vertical-align: top;\n",
       "    }\n",
       "\n",
       "    .dataframe thead th {\n",
       "        text-align: right;\n",
       "    }\n",
       "</style>\n",
       "<table border=\"1\" class=\"dataframe\">\n",
       "  <thead>\n",
       "    <tr style=\"text-align: right;\">\n",
       "      <th></th>\n",
       "      <th>Locations</th>\n",
       "    </tr>\n",
       "  </thead>\n",
       "  <tbody>\n",
       "    <tr>\n",
       "      <th>0</th>\n",
       "      <td>357 Flanders H 3570 Unit 3570, Delray Beach, F...</td>\n",
       "    </tr>\n",
       "    <tr>\n",
       "      <th>1</th>\n",
       "      <td>11004 Whitepine Dr, Hopewell, VA, 23860</td>\n",
       "    </tr>\n",
       "    <tr>\n",
       "      <th>2</th>\n",
       "      <td>1100 Cormier Rd, Danville, VT, 05828</td>\n",
       "    </tr>\n",
       "    <tr>\n",
       "      <th>3</th>\n",
       "      <td>11009 Lake Julia Rd, Remsen, NY, 13438</td>\n",
       "    </tr>\n",
       "    <tr>\n",
       "      <th>4</th>\n",
       "      <td>1154-56 Jud St, San Diego, CA, 92114</td>\n",
       "    </tr>\n",
       "    <tr>\n",
       "      <th>5</th>\n",
       "      <td>1100 E Cavanaugh St, El Reno, OK, 73036</td>\n",
       "    </tr>\n",
       "    <tr>\n",
       "      <th>6</th>\n",
       "      <td>3479 Trailview Ct, Brunswick, OH, 44212</td>\n",
       "    </tr>\n",
       "    <tr>\n",
       "      <th>7</th>\n",
       "      <td>9902 3rd Ave Apt 4F, Brooklyn, NY, 11209</td>\n",
       "    </tr>\n",
       "  </tbody>\n",
       "</table>\n",
       "</div>"
      ],
      "text/plain": [
       "                                           Locations\n",
       "0  357 Flanders H 3570 Unit 3570, Delray Beach, F...\n",
       "1            11004 Whitepine Dr, Hopewell, VA, 23860\n",
       "2               1100 Cormier Rd, Danville, VT, 05828\n",
       "3             11009 Lake Julia Rd, Remsen, NY, 13438\n",
       "4               1154-56 Jud St, San Diego, CA, 92114\n",
       "5            1100 E Cavanaugh St, El Reno, OK, 73036\n",
       "6            3479 Trailview Ct, Brunswick, OH, 44212\n",
       "7           9902 3rd Ave Apt 4F, Brooklyn, NY, 11209"
      ]
     },
     "execution_count": 7,
     "metadata": {},
     "output_type": "execute_result"
    }
   ],
   "source": [
    "csv"
   ]
  },
  {
   "cell_type": "code",
   "execution_count": 21,
   "id": "b7549a95",
   "metadata": {},
   "outputs": [],
   "source": [
    "def get_price_in_realtor(location, driver):\n",
    "    search_bar_realtor = driver.find_element_by_xpath('//*[@id=\"searchbox-input\"]')\n",
    "    search_bar_realtor.send_keys(Keys.CONTROL + \"a\")\n",
    "    search_bar_realtor.send_keys(Keys.DELETE)\n",
    "    search_bar_realtor.send_keys(location)\n",
    "    sleep(2)\n",
    "    search_bar_realtor.send_keys(Keys.RETURN)\n",
    "    sleep(2)\n",
    "    try:\n",
    "        price_realtor = driver.find_element_by_xpath('//div[contains(@class, \"styles__Amount\")]')\n",
    "        price = price_realtor.text\n",
    "    except:\n",
    "        price = 0\n",
    "    try:\n",
    "        growth_realtor = driver.find_element_by_xpath('//div[contains(@class, \"__Since\")]')\n",
    "        growth = growth_realtor.text\n",
    "    except:\n",
    "        growth = 0\n",
    "\n",
    "    return price, growth"
   ]
  },
  {
   "cell_type": "code",
   "execution_count": 28,
   "id": "31d87adf",
   "metadata": {},
   "outputs": [
    {
     "name": "stdout",
     "output_type": "stream",
     "text": [
      "['357 Flanders H 3570 Unit 3570, Delray Beach, FL, 33484']\n"
     ]
    },
    {
     "name": "stderr",
     "output_type": "stream",
     "text": [
      "C:\\Users\\VAIO\\AppData\\Local\\Temp\\ipykernel_30468\\1039252172.py:2: DeprecationWarning: find_element_by_xpath is deprecated. Please use find_element(by=By.XPATH, value=xpath) instead\n",
      "  search_bar_realtor = driver.find_element_by_xpath('//*[@id=\"searchbox-input\"]')\n",
      "C:\\Users\\VAIO\\AppData\\Local\\Temp\\ipykernel_30468\\1039252172.py:10: DeprecationWarning: find_element_by_xpath is deprecated. Please use find_element(by=By.XPATH, value=xpath) instead\n",
      "  price_realtor = driver.find_element_by_xpath('//div[contains(@class, \"styles__Amount\")]')\n",
      "C:\\Users\\VAIO\\AppData\\Local\\Temp\\ipykernel_30468\\1039252172.py:15: DeprecationWarning: find_element_by_xpath is deprecated. Please use find_element(by=By.XPATH, value=xpath) instead\n",
      "  growth_realtor = driver.find_element_by_xpath('//div[contains(@class, \"__Since\")]')\n"
     ]
    },
    {
     "name": "stdout",
     "output_type": "stream",
     "text": [
      "['11004 Whitepine Dr, Hopewell, VA, 23860']\n",
      "['1100 Cormier Rd, Danville, VT, 05828']\n",
      "['11009 Lake Julia Rd, Remsen, NY, 13438']\n",
      "['1154-56 Jud St, San Diego, CA, 92114']\n",
      "['1100 E Cavanaugh St, El Reno, OK, 73036']\n",
      "['3479 Trailview Ct, Brunswick, OH, 44212']\n",
      "['9902 3rd Ave Apt 4F, Brooklyn, NY, 11209']\n"
     ]
    }
   ],
   "source": [
    "table = []\n",
    "for loc in csv.values[0:]:\n",
    "    print(loc)\n",
    "    info = get_price_in_realtor(loc, driver)\n",
    "    table.append((loc, info[0], info[1]))\n",
    "    sleep(3)"
   ]
  },
  {
   "cell_type": "code",
   "execution_count": 25,
   "id": "f0fbe965",
   "metadata": {},
   "outputs": [
    {
     "data": {
      "text/plain": [
       "[(array(['357 Flanders H 3570 Unit 3570, Delray Beach, FL, 33484'],\n",
       "        dtype=object),\n",
       "  ('$123,600', '0.49% Since Apr 2022')),\n",
       " (array(['11004 Whitepine Dr, Hopewell, VA, 23860'], dtype=object),\n",
       "  ('$284,600', '2.7% Since Apr 2022')),\n",
       " (array(['1100 Cormier Rd, Danville, VT, 05828'], dtype=object),\n",
       "  ('$1,395,600', '-0.0072% Since Apr 2022')),\n",
       " (array(['11009 Lake Julia Rd, Remsen, NY, 13438'], dtype=object),\n",
       "  ('$131,300', '0.46% Since Apr 2022')),\n",
       " (array(['1154-56 Jud St, San Diego, CA, 92114'], dtype=object),\n",
       "  ('$708,000', '12% Since Apr 2022')),\n",
       " (array(['1100 E Cavanaugh St, El Reno, OK, 73036'], dtype=object),\n",
       "  ('$133,700', '-0.075% Since Apr 2022')),\n",
       " (array(['3479 Trailview Ct, Brunswick, OH, 44212'], dtype=object),\n",
       "  ('$362,600', '0.64% Since Apr 2022')),\n",
       " (array(['9902 3rd Ave Apt 4F, Brooklyn, NY, 11209'], dtype=object),\n",
       "  ('$335,600', '1.3% Since Apr 2022'))]"
      ]
     },
     "execution_count": 25,
     "metadata": {},
     "output_type": "execute_result"
    }
   ],
   "source": [
    "table"
   ]
  },
  {
   "cell_type": "code",
   "execution_count": 29,
   "id": "4954564a",
   "metadata": {},
   "outputs": [],
   "source": [
    "new_csv = pd.DataFrame(table)"
   ]
  },
  {
   "cell_type": "code",
   "execution_count": 31,
   "id": "093726f9",
   "metadata": {},
   "outputs": [],
   "source": [
    "new_csv.to_csv(\"sample_prices_growth.csv\")"
   ]
  }
 ],
 "metadata": {
  "kernelspec": {
   "display_name": "Python 3 (ipykernel)",
   "language": "python",
   "name": "python3"
  },
  "language_info": {
   "codemirror_mode": {
    "name": "ipython",
    "version": 3
   },
   "file_extension": ".py",
   "mimetype": "text/x-python",
   "name": "python",
   "nbconvert_exporter": "python",
   "pygments_lexer": "ipython3",
   "version": "3.9.5"
  }
 },
 "nbformat": 4,
 "nbformat_minor": 5
}
