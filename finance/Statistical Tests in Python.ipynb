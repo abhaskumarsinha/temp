{
 "cells": [
  {
   "cell_type": "code",
   "execution_count": 32,
   "id": "d8aaa655",
   "metadata": {},
   "outputs": [],
   "source": [
    "import mpmath"
   ]
  },
  {
   "cell_type": "markdown",
   "id": "7551bf92",
   "metadata": {},
   "source": [
    "$$ \\beta (a,b) \\stackrel \\Delta = \\dfrac{\\Gamma(a)\\Gamma(b)}{\\Gamma(a+b)} $$"
   ]
  },
  {
   "cell_type": "code",
   "execution_count": 33,
   "id": "f6041c3f",
   "metadata": {},
   "outputs": [],
   "source": [
    "def beta(a,b):\n",
    "    return mpmath.gamma(a)*mpmath.gamma(b)/mpmath.gamma(a+b)"
   ]
  },
  {
   "cell_type": "markdown",
   "id": "cddd071c",
   "metadata": {},
   "source": [
    "$$\\text{  Jeffrey's Test PD Backtesting: } \\\\ p = \\beta (D + \\frac 1 2, N - D + 0.5) \\times \\text{PD} $$"
   ]
  },
  {
   "cell_type": "code",
   "execution_count": 34,
   "id": "62bfd0cb",
   "metadata": {},
   "outputs": [],
   "source": [
    "def jeffreys_PD_backtesting(PD, N, D):\n",
    "    return beta(D + 0.5, N - D + 0.5)*PD"
   ]
  },
  {
   "cell_type": "markdown",
   "id": "71932b99",
   "metadata": {},
   "source": [
    "Let's suppose for a case where using a possibility of defaulter (PD) is 0.01 at the beginning of a relevant period.\n",
    "Out of 20 loans, we came across one default loan. So, we set $D = 1, N = 20$ and $PD = 0.01$ and invoke Jeffrey's PD backtesting function here."
   ]
  },
  {
   "cell_type": "code",
   "execution_count": 35,
   "id": "a1465d8f",
   "metadata": {},
   "outputs": [
    {
     "name": "stdout",
     "output_type": "stream",
     "text": [
      "Jeffrey's Backtesting Test for the case returns: p = 0.000100990674666967\n"
     ]
    }
   ],
   "source": [
    "print(\"Jeffrey's Backtesting Test for the case returns: p = \" + str(jeffreys_PD_backtesting(0.01, 20, 1)))"
   ]
  },
  {
   "cell_type": "code",
   "execution_count": null,
   "id": "359bdbea",
   "metadata": {},
   "outputs": [],
   "source": []
  }
 ],
 "metadata": {
  "kernelspec": {
   "display_name": "Python 3 (ipykernel)",
   "language": "python",
   "name": "python3"
  },
  "language_info": {
   "codemirror_mode": {
    "name": "ipython",
    "version": 3
   },
   "file_extension": ".py",
   "mimetype": "text/x-python",
   "name": "python",
   "nbconvert_exporter": "python",
   "pygments_lexer": "ipython3",
   "version": "3.9.5"
  }
 },
 "nbformat": 4,
 "nbformat_minor": 5
}
